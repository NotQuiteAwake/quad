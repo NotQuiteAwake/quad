{
 "cells": [
  {
   "cell_type": "code",
   "execution_count": 1,
   "id": "e4cac0c5",
   "metadata": {},
   "outputs": [],
   "source": [
    "from lib.utils import Data\n",
    "from time import sleep\n",
    "from lib import processor\n",
    "\n",
    "import os\n",
    "import statistics as st\n",
    "import numpy as np\n",
    "import matplotlib.pyplot as plt\n",
    "\n",
    "from tkinter import Tk\n",
    "from tkinter.filedialog import askopenfilename\n"
   ]
  },
  {
   "cell_type": "code",
   "execution_count": 3,
   "id": "5fa57220",
   "metadata": {},
   "outputs": [],
   "source": [
    "save=True\n",
    "\n",
    "def gen_w2_norm_plots(path: str):\n",
    "    \n",
    "    data_files = processor.get_data_files(path)  #return list of paths to json files.\n",
    "    \n",
    "    for name in data_files:\n",
    "        data = Data()\n",
    "        data.load(name)\n",
    "        print(f'plotting {name}')\n",
    "        fig = os.path.join(path, 'w2-norm-plots', name.replace('json', 'pdf')) ###\n",
    "        processor.w2_norm_plot(data, fig, fl = 680, fr = 820)"
   ]
  },
  {
   "cell_type": "code",
   "execution_count": 5,
   "id": "91883957-97c6-4378-a6ef-bc7cf4e1a699",
   "metadata": {},
   "outputs": [
    {
     "name": "stdout",
     "output_type": "stream",
     "text": [
      "plotting C:/Users/zc345-elev/Documents/quad/src/temp\\bf_30.0_[1000, 1000, 1000, 1000]_12-13_0.json\n"
     ]
    },
    {
     "ename": "TypeError",
     "evalue": "expected str, bytes or os.PathLike object, not list",
     "output_type": "error",
     "traceback": [
      "\u001b[1;31m---------------------------------------------------------------------------\u001b[0m",
      "\u001b[1;31mTypeError\u001b[0m                                 Traceback (most recent call last)",
      "Cell \u001b[1;32mIn[5], line 4\u001b[0m\n\u001b[0;32m      1\u001b[0m path \u001b[38;5;241m=\u001b[39m [\u001b[38;5;124m'\u001b[39m\u001b[38;5;124mC:/Users/zc345-elev/Documents/quad/src/temp\u001b[39m\u001b[38;5;124m'\u001b[39m]\n\u001b[0;32m      3\u001b[0m     \u001b[38;5;66;03m#gen_w2_norm_plots('../raw/snap/07-14/')\u001b[39;00m\n\u001b[1;32m----> 4\u001b[0m \u001b[43mgen_w2_norm_plots\u001b[49m\u001b[43m(\u001b[49m\u001b[43mpath\u001b[49m\u001b[43m)\u001b[49m\n",
      "Cell \u001b[1;32mIn[3], line 11\u001b[0m, in \u001b[0;36mgen_w2_norm_plots\u001b[1;34m(path)\u001b[0m\n\u001b[0;32m      9\u001b[0m data\u001b[38;5;241m.\u001b[39mload(name)\n\u001b[0;32m     10\u001b[0m \u001b[38;5;28mprint\u001b[39m(\u001b[38;5;124mf\u001b[39m\u001b[38;5;124m'\u001b[39m\u001b[38;5;124mplotting \u001b[39m\u001b[38;5;132;01m{\u001b[39;00mname\u001b[38;5;132;01m}\u001b[39;00m\u001b[38;5;124m'\u001b[39m)\n\u001b[1;32m---> 11\u001b[0m fig \u001b[38;5;241m=\u001b[39m \u001b[43mos\u001b[49m\u001b[38;5;241;43m.\u001b[39;49m\u001b[43mpath\u001b[49m\u001b[38;5;241;43m.\u001b[39;49m\u001b[43mjoin\u001b[49m\u001b[43m(\u001b[49m\u001b[43mpath\u001b[49m\u001b[43m,\u001b[49m\u001b[43m \u001b[49m\u001b[38;5;124;43m'\u001b[39;49m\u001b[38;5;124;43mw2-norm-plots\u001b[39;49m\u001b[38;5;124;43m'\u001b[39;49m\u001b[43m,\u001b[49m\u001b[43m \u001b[49m\u001b[43mname\u001b[49m\u001b[38;5;241;43m.\u001b[39;49m\u001b[43mreplace\u001b[49m\u001b[43m(\u001b[49m\u001b[38;5;124;43m'\u001b[39;49m\u001b[38;5;124;43mjson\u001b[39;49m\u001b[38;5;124;43m'\u001b[39;49m\u001b[43m,\u001b[49m\u001b[43m \u001b[49m\u001b[38;5;124;43m'\u001b[39;49m\u001b[38;5;124;43mpdf\u001b[39;49m\u001b[38;5;124;43m'\u001b[39;49m\u001b[43m)\u001b[49m\u001b[43m)\u001b[49m \u001b[38;5;66;03m###\u001b[39;00m\n\u001b[0;32m     12\u001b[0m processor\u001b[38;5;241m.\u001b[39mw2_norm_plot(data, fig, fl \u001b[38;5;241m=\u001b[39m \u001b[38;5;241m680\u001b[39m, fr \u001b[38;5;241m=\u001b[39m \u001b[38;5;241m820\u001b[39m)\n",
      "File \u001b[1;32m<frozen ntpath>:104\u001b[0m, in \u001b[0;36mjoin\u001b[1;34m(path, *paths)\u001b[0m\n",
      "\u001b[1;31mTypeError\u001b[0m: expected str, bytes or os.PathLike object, not list"
     ]
    }
   ],
   "source": [
    "path = ['C:/Users/zc345-elev/Documents/quad/src/temp']\n",
    "    \n",
    "    #gen_w2_norm_plots('../raw/snap/07-14/')\n",
    "gen_w2_norm_plots(path)"
   ]
  }
 ],
 "metadata": {
  "kernelspec": {
   "display_name": "Python 3 (ipykernel)",
   "language": "python",
   "name": "python3"
  },
  "language_info": {
   "codemirror_mode": {
    "name": "ipython",
    "version": 3
   },
   "file_extension": ".py",
   "mimetype": "text/x-python",
   "name": "python",
   "nbconvert_exporter": "python",
   "pygments_lexer": "ipython3",
   "version": "3.11.0"
  }
 },
 "nbformat": 4,
 "nbformat_minor": 5
}
