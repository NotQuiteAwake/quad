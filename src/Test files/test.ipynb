{
 "cells": [
  {
   "cell_type": "code",
   "execution_count": 7,
   "id": "e4cac0c5",
   "metadata": {},
   "outputs": [],
   "source": [
    "from lib.utils import Data\n",
    "from time import sleep\n",
    "from lib import processor\n",
    "\n",
    "import analysis\n",
    "\n",
    "import os\n",
    "import statistics as st\n",
    "import numpy as np\n",
    "import matplotlib.pyplot as plt\n",
    "\n",
    "from tkinter import Tk\n",
    "from tkinter.filedialog import askopenfilename\n"
   ]
  },
  {
   "cell_type": "markdown",
   "id": "cdfc385f-c587-487f-a820-55f1b9239d86",
   "metadata": {},
   "source": [
    "Weird things happen with 3d plot:"
   ]
  },
  {
   "cell_type": "code",
   "execution_count": 8,
   "id": "5fa57220",
   "metadata": {},
   "outputs": [
    {
     "name": "stdout",
     "output_type": "stream",
     "text": [
      "get_result_by_batch: Processing file 1702480037.0255885.\n",
      "get_result_by_batch: Processing file 1702480037.0255885.\n",
      "get_result_by_batch: Processing file 1702480037.0255885.\n",
      "get_result_by_batch: Processing file 1702480037.0255885.\n",
      "get_result_by_batch: Processing file 1702480037.0255885.\n"
     ]
    },
    {
     "ename": "QhullError",
     "evalue": "QH6013 qhull input error: input is less than 3-dimensional since all points have the same x coordinate   30\n\nWhile executing:  | qhull d Qc Qt Qz Qbb Q12\nOptions selected for Qhull 2019.1.r 2019/06/21:\n  run-id 1522209889  delaunay  Qcoplanar-keep  Qtriangulate  Qz-infinity-point\n  Qbbound-last  Q12-allow-wide  _pre-merge  _zero-centrum  Qinterior-keep\n  Pgood  _max-width 7.6e+06  Error-roundoff 1.2e-08  _one-merge 8.3e-08\n  Visible-distance 2.4e-08  U-max-coplanar 2.4e-08  Width-outside 4.7e-08\n  _wide-facet 1.4e-07  _maxoutside 9.4e-08\n",
     "output_type": "error",
     "traceback": [
      "\u001b[1;31m---------------------------------------------------------------------------\u001b[0m",
      "\u001b[1;31mQhullError\u001b[0m                                Traceback (most recent call last)",
      "Cell \u001b[1;32mIn[8], line 5\u001b[0m\n\u001b[0;32m      3\u001b[0m fig \u001b[38;5;241m=\u001b[39m os\u001b[38;5;241m.\u001b[39mpath\u001b[38;5;241m.\u001b[39mjoin(paths, \u001b[38;5;124m'\u001b[39m\u001b[38;5;124m3d.pdf\u001b[39m\u001b[38;5;124m'\u001b[39m)\n\u001b[0;32m      4\u001b[0m data_list \u001b[38;5;241m=\u001b[39m processor\u001b[38;5;241m.\u001b[39mget_data_list(paths)\n\u001b[1;32m----> 5\u001b[0m \u001b[43mprocessor\u001b[49m\u001b[38;5;241;43m.\u001b[39;49m\u001b[43mrpm_height_3d_plot\u001b[49m\u001b[43m(\u001b[49m\u001b[43mdata_list\u001b[49m\u001b[43m,\u001b[49m\u001b[43m \u001b[49m\u001b[43mfig\u001b[49m\u001b[43m \u001b[49m\u001b[38;5;241;43m=\u001b[39;49m\u001b[43m \u001b[49m\u001b[43mfig\u001b[49m\u001b[43m)\u001b[49m\n",
      "File \u001b[1;32m~\\Documents\\quad\\src\\lib\\processor.py:846\u001b[0m, in \u001b[0;36mrpm_height_3d_plot\u001b[1;34m(data_list, avg, fig, **kwargs)\u001b[0m\n\u001b[0;32m    843\u001b[0m         rpm_y2\u001b[38;5;241m.\u001b[39mappend(y[i]\u001b[38;5;241m*\u001b[39m\u001b[38;5;241m*\u001b[39m\u001b[38;5;241m2\u001b[39m)\n\u001b[0;32m    844\u001b[0m         mass_z\u001b[38;5;241m.\u001b[39mappend(z[i])\n\u001b[1;32m--> 846\u001b[0m Xi,Yi,Zi \u001b[38;5;241m=\u001b[39m \u001b[43minterpolate_to_create_2d_z\u001b[49m\u001b[43m(\u001b[49m\u001b[43mheight_x\u001b[49m\u001b[43m,\u001b[49m\u001b[43m \u001b[49m\u001b[43mrpm_y2\u001b[49m\u001b[43m,\u001b[49m\u001b[43m \u001b[49m\u001b[43mmass_z\u001b[49m\u001b[43m)\u001b[49m\n\u001b[0;32m    848\u001b[0m \u001b[38;5;66;03m# wireframe plot\u001b[39;00m\n\u001b[0;32m    849\u001b[0m ax\u001b[38;5;241m.\u001b[39mplot_wireframe(Xi,Yi,Zi,rstride\u001b[38;5;241m=\u001b[39m\u001b[38;5;241m200\u001b[39m, cstride\u001b[38;5;241m=\u001b[39m\u001b[38;5;241m200\u001b[39m, linewidth\u001b[38;5;241m=\u001b[39m\u001b[38;5;241m2\u001b[39m)\n",
      "File \u001b[1;32m~\\Documents\\quad\\src\\lib\\processor.py:824\u001b[0m, in \u001b[0;36minterpolate_to_create_2d_z\u001b[1;34m(x, y, z)\u001b[0m\n\u001b[0;32m    822\u001b[0m Xi, Yi \u001b[38;5;241m=\u001b[39m np\u001b[38;5;241m.\u001b[39mmeshgrid(xi, yi)\n\u001b[0;32m    823\u001b[0m \u001b[38;5;66;03m# Interpolate z values onto the regular grid\u001b[39;00m\n\u001b[1;32m--> 824\u001b[0m Zi \u001b[38;5;241m=\u001b[39m \u001b[43mgriddata\u001b[49m\u001b[43m(\u001b[49m\u001b[43m(\u001b[49m\u001b[43mx\u001b[49m\u001b[43m,\u001b[49m\u001b[43m \u001b[49m\u001b[43my\u001b[49m\u001b[43m)\u001b[49m\u001b[43m,\u001b[49m\u001b[43m \u001b[49m\u001b[43mz\u001b[49m\u001b[43m,\u001b[49m\u001b[43m \u001b[49m\u001b[43m(\u001b[49m\u001b[43mXi\u001b[49m\u001b[43m,\u001b[49m\u001b[43m \u001b[49m\u001b[43mYi\u001b[49m\u001b[43m)\u001b[49m\u001b[43m,\u001b[49m\u001b[43m \u001b[49m\u001b[43mmethod\u001b[49m\u001b[38;5;241;43m=\u001b[39;49m\u001b[38;5;124;43m'\u001b[39;49m\u001b[38;5;124;43mlinear\u001b[39;49m\u001b[38;5;124;43m'\u001b[39;49m\u001b[43m)\u001b[49m\n\u001b[0;32m    825\u001b[0m \u001b[38;5;28;01mreturn\u001b[39;00m Xi,Yi,Zi\n",
      "File \u001b[1;32m~\\Documents\\quad\\env\\Lib\\site-packages\\scipy\\interpolate\\_ndgriddata.py:273\u001b[0m, in \u001b[0;36mgriddata\u001b[1;34m(points, values, xi, method, fill_value, rescale)\u001b[0m\n\u001b[0;32m    271\u001b[0m     \u001b[38;5;28;01mreturn\u001b[39;00m ip(xi)\n\u001b[0;32m    272\u001b[0m \u001b[38;5;28;01melif\u001b[39;00m method \u001b[38;5;241m==\u001b[39m \u001b[38;5;124m'\u001b[39m\u001b[38;5;124mlinear\u001b[39m\u001b[38;5;124m'\u001b[39m:\n\u001b[1;32m--> 273\u001b[0m     ip \u001b[38;5;241m=\u001b[39m \u001b[43mLinearNDInterpolator\u001b[49m\u001b[43m(\u001b[49m\u001b[43mpoints\u001b[49m\u001b[43m,\u001b[49m\u001b[43m \u001b[49m\u001b[43mvalues\u001b[49m\u001b[43m,\u001b[49m\u001b[43m \u001b[49m\u001b[43mfill_value\u001b[49m\u001b[38;5;241;43m=\u001b[39;49m\u001b[43mfill_value\u001b[49m\u001b[43m,\u001b[49m\n\u001b[0;32m    274\u001b[0m \u001b[43m                              \u001b[49m\u001b[43mrescale\u001b[49m\u001b[38;5;241;43m=\u001b[39;49m\u001b[43mrescale\u001b[49m\u001b[43m)\u001b[49m\n\u001b[0;32m    275\u001b[0m     \u001b[38;5;28;01mreturn\u001b[39;00m ip(xi)\n\u001b[0;32m    276\u001b[0m \u001b[38;5;28;01melif\u001b[39;00m method \u001b[38;5;241m==\u001b[39m \u001b[38;5;124m'\u001b[39m\u001b[38;5;124mcubic\u001b[39m\u001b[38;5;124m'\u001b[39m \u001b[38;5;129;01mand\u001b[39;00m ndim \u001b[38;5;241m==\u001b[39m \u001b[38;5;241m2\u001b[39m:\n",
      "File \u001b[1;32minterpnd.pyx:290\u001b[0m, in \u001b[0;36mscipy.interpolate.interpnd.LinearNDInterpolator.__init__\u001b[1;34m()\u001b[0m\n",
      "File \u001b[1;32m_qhull.pyx:1827\u001b[0m, in \u001b[0;36mscipy.spatial._qhull.Delaunay.__init__\u001b[1;34m()\u001b[0m\n",
      "File \u001b[1;32m_qhull.pyx:353\u001b[0m, in \u001b[0;36mscipy.spatial._qhull._Qhull.__init__\u001b[1;34m()\u001b[0m\n",
      "\u001b[1;31mQhullError\u001b[0m: QH6013 qhull input error: input is less than 3-dimensional since all points have the same x coordinate   30\n\nWhile executing:  | qhull d Qc Qt Qz Qbb Q12\nOptions selected for Qhull 2019.1.r 2019/06/21:\n  run-id 1522209889  delaunay  Qcoplanar-keep  Qtriangulate  Qz-infinity-point\n  Qbbound-last  Q12-allow-wide  _pre-merge  _zero-centrum  Qinterior-keep\n  Pgood  _max-width 7.6e+06  Error-roundoff 1.2e-08  _one-merge 8.3e-08\n  Visible-distance 2.4e-08  U-max-coplanar 2.4e-08  Width-outside 4.7e-08\n  _wide-facet 1.4e-07  _maxoutside 9.4e-08\n"
     ]
    }
   ],
   "source": [
    "paths = 'C:/Users/zc345-elev/Documents/quad/src/temp'\n",
    "\n",
    "fig = os.path.join(paths, '3d.pdf')\n",
    "data_list = processor.get_data_list(paths)\n",
    "processor.rpm_height_3d_plot(data_list, fig = fig)"
   ]
  },
  {
   "cell_type": "code",
   "execution_count": 10,
   "id": "fd1d66fc-3480-4015-a9ae-4f1fbc56dfed",
   "metadata": {},
   "outputs": [
    {
     "name": "stdout",
     "output_type": "stream",
     "text": [
      "get_result_by_batch: Processing file 1702480037.0255885.\n",
      "get_result_by_batch: Processing file 1702480037.0255885.\n",
      "get_result_by_batch: Processing file 1702480037.0255885.\n",
      "get_result_by_batch: Processing file 1702480037.0255885.\n",
      "get_result_by_batch: Processing file 1702480037.0255885.\n"
     ]
    },
    {
     "ename": "TypeError",
     "evalue": "Improper input: func input vector length N=6 must not exceed func output vector length M=1",
     "output_type": "error",
     "traceback": [
      "\u001b[1;31m---------------------------------------------------------------------------\u001b[0m",
      "\u001b[1;31mTypeError\u001b[0m                                 Traceback (most recent call last)",
      "Cell \u001b[1;32mIn[10], line 1\u001b[0m\n\u001b[1;32m----> 1\u001b[0m \u001b[43manalysis\u001b[49m\u001b[38;5;241;43m.\u001b[39;49m\u001b[43mgen_ln_cl_ln_height_plot\u001b[49m\u001b[43m(\u001b[49m\u001b[43mpath\u001b[49m\u001b[43m)\u001b[49m\n",
      "File \u001b[1;32m~\\Documents\\quad\\src\\analysis.py:65\u001b[0m, in \u001b[0;36mgen_ln_cl_ln_height_plot\u001b[1;34m(paths)\u001b[0m\n\u001b[0;32m     63\u001b[0m \u001b[38;5;28;01mdef\u001b[39;00m \u001b[38;5;21mgen_ln_cl_ln_height_plot\u001b[39m(paths: \u001b[38;5;28mstr\u001b[39m\u001b[38;5;241m|\u001b[39m\u001b[38;5;28mlist\u001b[39m):\n\u001b[0;32m     64\u001b[0m     data_list \u001b[38;5;241m=\u001b[39m processor\u001b[38;5;241m.\u001b[39mget_data_list(paths)\n\u001b[1;32m---> 65\u001b[0m     \u001b[43mprocessor\u001b[49m\u001b[38;5;241;43m.\u001b[39;49m\u001b[43mln_cl_ln_height_plot\u001b[49m\u001b[43m(\u001b[49m\u001b[43mdata_list\u001b[49m\u001b[43m,\u001b[49m\u001b[43m \u001b[49m\u001b[43mfig\u001b[49m\u001b[38;5;241;43m=\u001b[39;49m\u001b[43mfig\u001b[49m\u001b[43m,\u001b[49m\u001b[43mavg\u001b[49m\u001b[43m \u001b[49m\u001b[38;5;241;43m=\u001b[39;49m\u001b[38;5;28;43;01mTrue\u001b[39;49;00m\u001b[43m,\u001b[49m\u001b[43m \u001b[49m\u001b[43moffset\u001b[49m\u001b[38;5;241;43m=\u001b[39;49m\u001b[43m \u001b[49m\u001b[38;5;241;43m0\u001b[39;49m\u001b[43m)\u001b[49m\n",
      "File \u001b[1;32m~\\Documents\\quad\\src\\lib\\processor.py:789\u001b[0m, in \u001b[0;36mln_cl_ln_height_plot\u001b[1;34m(data_list, avg, fig, offset, **kwargs)\u001b[0m\n\u001b[0;32m    786\u001b[0m \u001b[38;5;28;01mdef\u001b[39;00m \u001b[38;5;21mpiecewise_linear_3\u001b[39m(x,x0,y0,x1,y1,k1,k2):\n\u001b[0;32m    787\u001b[0m     \u001b[38;5;28;01mreturn\u001b[39;00m np\u001b[38;5;241m.\u001b[39mpiecewise(x, [x \u001b[38;5;241m<\u001b[39m x0, (x \u001b[38;5;241m>\u001b[39m\u001b[38;5;241m=\u001b[39m x0) \u001b[38;5;241m&\u001b[39m (x \u001b[38;5;241m<\u001b[39m x1), x\u001b[38;5;241m>\u001b[39m\u001b[38;5;241m=\u001b[39m x1], [\u001b[38;5;28;01mlambda\u001b[39;00m x: k1 \u001b[38;5;241m*\u001b[39m x \u001b[38;5;241m+\u001b[39m y0 \u001b[38;5;241m-\u001b[39m k1 \u001b[38;5;241m*\u001b[39m x0, \u001b[38;5;28;01mlambda\u001b[39;00m x: (x\u001b[38;5;241m-\u001b[39mx0)\u001b[38;5;241m/\u001b[39m(x1\u001b[38;5;241m-\u001b[39mx0)\u001b[38;5;241m*\u001b[39m(y1\u001b[38;5;241m-\u001b[39my0) \u001b[38;5;241m+\u001b[39m y0 ,  \u001b[38;5;28;01mlambda\u001b[39;00m x: k2 \u001b[38;5;241m*\u001b[39m x \u001b[38;5;241m+\u001b[39m y1 \u001b[38;5;241m-\u001b[39m k2 \u001b[38;5;241m*\u001b[39m x1])\n\u001b[1;32m--> 789\u001b[0m fit3, e3 \u001b[38;5;241m=\u001b[39m \u001b[43moptimize\u001b[49m\u001b[38;5;241;43m.\u001b[39;49m\u001b[43mcurve_fit\u001b[49m\u001b[43m(\u001b[49m\u001b[43mpiecewise_linear_3\u001b[49m\u001b[43m,\u001b[49m\u001b[43m \u001b[49m\u001b[43mx_cl\u001b[49m\u001b[43m,\u001b[49m\u001b[43m \u001b[49m\u001b[43my_cl\u001b[49m\u001b[43m,\u001b[49m\u001b[43mp0\u001b[49m\u001b[38;5;241;43m=\u001b[39;49m\u001b[43mnp\u001b[49m\u001b[38;5;241;43m.\u001b[39;49m\u001b[43masarray\u001b[49m\u001b[43m(\u001b[49m\u001b[43m[\u001b[49m\u001b[38;5;241;43m3\u001b[39;49m\u001b[43m,\u001b[49m\u001b[38;5;241;43m-\u001b[39;49m\u001b[38;5;241;43m13\u001b[39;49m\u001b[43m,\u001b[49m\u001b[38;5;241;43m4\u001b[39;49m\u001b[43m,\u001b[49m\u001b[38;5;241;43m-\u001b[39;49m\u001b[38;5;241;43m13\u001b[39;49m\u001b[43m,\u001b[49m\u001b[38;5;241;43m-\u001b[39;49m\u001b[38;5;241;43m0.5\u001b[39;49m\u001b[43m,\u001b[49m\u001b[38;5;241;43m0\u001b[39;49m\u001b[43m]\u001b[49m\u001b[43m)\u001b[49m\u001b[43m)\u001b[49m\n\u001b[0;32m    790\u001b[0m fit2, e2 \u001b[38;5;241m=\u001b[39m optimize\u001b[38;5;241m.\u001b[39mcurve_fit(piecewise_linear_2, x_cl, y_cl, p0\u001b[38;5;241m=\u001b[39mnp\u001b[38;5;241m.\u001b[39masarray([\u001b[38;5;241m3.75\u001b[39m, \u001b[38;5;241m-\u001b[39m\u001b[38;5;241m13\u001b[39m, \u001b[38;5;241m-\u001b[39m\u001b[38;5;241m0.5\u001b[39m, \u001b[38;5;241m0\u001b[39m]))\n\u001b[0;32m    791\u001b[0m x_ref \u001b[38;5;241m=\u001b[39m np\u001b[38;5;241m.\u001b[39mlinspace(\u001b[38;5;28mmin\u001b[39m(x_cl),\u001b[38;5;28mmax\u001b[39m(x_cl),\u001b[38;5;241m1000\u001b[39m)\n",
      "File \u001b[1;32m~\\Documents\\quad\\env\\Lib\\site-packages\\scipy\\optimize\\_minpack_py.py:963\u001b[0m, in \u001b[0;36mcurve_fit\u001b[1;34m(f, xdata, ydata, p0, sigma, absolute_sigma, check_finite, bounds, method, jac, full_output, nan_policy, **kwargs)\u001b[0m\n\u001b[0;32m    960\u001b[0m \u001b[38;5;28;01mif\u001b[39;00m ydata\u001b[38;5;241m.\u001b[39msize \u001b[38;5;241m!=\u001b[39m \u001b[38;5;241m1\u001b[39m \u001b[38;5;129;01mand\u001b[39;00m n \u001b[38;5;241m>\u001b[39m ydata\u001b[38;5;241m.\u001b[39msize:\n\u001b[0;32m    961\u001b[0m     \u001b[38;5;28;01mraise\u001b[39;00m \u001b[38;5;167;01mTypeError\u001b[39;00m(\u001b[38;5;124mf\u001b[39m\u001b[38;5;124m\"\u001b[39m\u001b[38;5;124mThe number of func parameters=\u001b[39m\u001b[38;5;132;01m{\u001b[39;00mn\u001b[38;5;132;01m}\u001b[39;00m\u001b[38;5;124m must not\u001b[39m\u001b[38;5;124m\"\u001b[39m\n\u001b[0;32m    962\u001b[0m                     \u001b[38;5;124mf\u001b[39m\u001b[38;5;124m\"\u001b[39m\u001b[38;5;124m exceed the number of data points=\u001b[39m\u001b[38;5;132;01m{\u001b[39;00mydata\u001b[38;5;241m.\u001b[39msize\u001b[38;5;132;01m}\u001b[39;00m\u001b[38;5;124m\"\u001b[39m)\n\u001b[1;32m--> 963\u001b[0m res \u001b[38;5;241m=\u001b[39m \u001b[43mleastsq\u001b[49m\u001b[43m(\u001b[49m\u001b[43mfunc\u001b[49m\u001b[43m,\u001b[49m\u001b[43m \u001b[49m\u001b[43mp0\u001b[49m\u001b[43m,\u001b[49m\u001b[43m \u001b[49m\u001b[43mDfun\u001b[49m\u001b[38;5;241;43m=\u001b[39;49m\u001b[43mjac\u001b[49m\u001b[43m,\u001b[49m\u001b[43m \u001b[49m\u001b[43mfull_output\u001b[49m\u001b[38;5;241;43m=\u001b[39;49m\u001b[38;5;241;43m1\u001b[39;49m\u001b[43m,\u001b[49m\u001b[43m \u001b[49m\u001b[38;5;241;43m*\u001b[39;49m\u001b[38;5;241;43m*\u001b[39;49m\u001b[43mkwargs\u001b[49m\u001b[43m)\u001b[49m\n\u001b[0;32m    964\u001b[0m popt, pcov, infodict, errmsg, ier \u001b[38;5;241m=\u001b[39m res\n\u001b[0;32m    965\u001b[0m ysize \u001b[38;5;241m=\u001b[39m \u001b[38;5;28mlen\u001b[39m(infodict[\u001b[38;5;124m'\u001b[39m\u001b[38;5;124mfvec\u001b[39m\u001b[38;5;124m'\u001b[39m])\n",
      "File \u001b[1;32m~\\Documents\\quad\\env\\Lib\\site-packages\\scipy\\optimize\\_minpack_py.py:419\u001b[0m, in \u001b[0;36mleastsq\u001b[1;34m(func, x0, args, Dfun, full_output, col_deriv, ftol, xtol, gtol, maxfev, epsfcn, factor, diag)\u001b[0m\n\u001b[0;32m    416\u001b[0m m \u001b[38;5;241m=\u001b[39m shape[\u001b[38;5;241m0\u001b[39m]\n\u001b[0;32m    418\u001b[0m \u001b[38;5;28;01mif\u001b[39;00m n \u001b[38;5;241m>\u001b[39m m:\n\u001b[1;32m--> 419\u001b[0m     \u001b[38;5;28;01mraise\u001b[39;00m \u001b[38;5;167;01mTypeError\u001b[39;00m(\u001b[38;5;124mf\u001b[39m\u001b[38;5;124m\"\u001b[39m\u001b[38;5;124mImproper input: func input vector length N=\u001b[39m\u001b[38;5;132;01m{\u001b[39;00mn\u001b[38;5;132;01m}\u001b[39;00m\u001b[38;5;124m must\u001b[39m\u001b[38;5;124m\"\u001b[39m\n\u001b[0;32m    420\u001b[0m                     \u001b[38;5;124mf\u001b[39m\u001b[38;5;124m\"\u001b[39m\u001b[38;5;124m not exceed func output vector length M=\u001b[39m\u001b[38;5;132;01m{\u001b[39;00mm\u001b[38;5;132;01m}\u001b[39;00m\u001b[38;5;124m\"\u001b[39m)\n\u001b[0;32m    422\u001b[0m \u001b[38;5;28;01mif\u001b[39;00m epsfcn \u001b[38;5;129;01mis\u001b[39;00m \u001b[38;5;28;01mNone\u001b[39;00m:\n\u001b[0;32m    423\u001b[0m     epsfcn \u001b[38;5;241m=\u001b[39m finfo(dtype)\u001b[38;5;241m.\u001b[39meps\n",
      "\u001b[1;31mTypeError\u001b[0m: Improper input: func input vector length N=6 must not exceed func output vector length M=1"
     ]
    }
   ],
   "source": [
    "analysis.gen_ln_cl_ln_height_plot(path)\n"
   ]
  },
  {
   "cell_type": "code",
   "execution_count": 11,
   "id": "e9338af2-284c-4318-bbb7-bbdf17a4a359",
   "metadata": {},
   "outputs": [
    {
     "name": "stdout",
     "output_type": "stream",
     "text": [
      "get_result_by_batch: Processing file 1702480037.0255885.\n",
      "get_result_by_batch: Processing file 1702480037.0255885.\n",
      "get_result_by_batch: Processing file 1702480037.0255885.\n",
      "get_result_by_batch: Processing file 1702480037.0255885.\n",
      "get_result_by_batch: Processing file 1702480037.0255885.\n"
     ]
    },
    {
     "data": {
      "text/plain": [
       "<Figure size 640x480 with 0 Axes>"
      ]
     },
     "metadata": {},
     "output_type": "display_data"
    },
    {
     "data": {
      "image/png": "[encoded data removed]",
      "text/plain": [
       "<Figure size 640x480 with 1 Axes>"
      ]
     },
     "metadata": {},
     "output_type": "display_data"
    }
   ],
   "source": [
    "analysis.gen_cl_height_plot(path)\n"
   ]
  }
 ],
 "metadata": {
  "kernelspec": {
   "display_name": "Python 3 (ipykernel)",
   "language": "python",
   "name": "python3"
  },
  "language_info": {
   "codemirror_mode": {
    "name": "ipython",
    "version": 3
   },
   "file_extension": ".py",
   "mimetype": "text/x-python",
   "name": "python",
   "nbconvert_exporter": "python",
   "pygments_lexer": "ipython3",
   "version": "3.11.0"
  }
 },
 "nbformat": 4,
 "nbformat_minor": 5
}
